{
 "cells": [
  {
   "cell_type": "code",
   "execution_count": 138,
   "metadata": {},
   "outputs": [],
   "source": [
    "import pandas as pd\n",
    "import re"
   ]
  },
  {
   "cell_type": "code",
   "execution_count": 139,
   "metadata": {},
   "outputs": [],
   "source": [
    "#Load the metaClean data into a dataframe\n",
    "df = pd.read_excel(\"C:\\\\Users\\\\ginok\\\\Downloads\\\\metaClean43Brightspace.xlsx\")"
   ]
  },
  {
   "cell_type": "code",
   "execution_count": 140,
   "metadata": {},
   "outputs": [],
   "source": [
    "#Load the Sales data into a dataframe \n",
    "df2 = pd.read_excel(\"C:\\\\Users\\\\ginok\\\\Downloads\\\\sales.xlsx\")\n"
   ]
  },
  {
   "cell_type": "code",
   "execution_count": 141,
   "metadata": {},
   "outputs": [],
   "source": [
    "#Removing the URL part before the moviename\n",
    "df['newUrl'] = df['url'].str.split(\"/\", expand = True)[:][4]\n",
    "df2['newUrl'] = df2['url'].str.split(\"/\", expand = True)[:][4]"
   ]
  },
  {
   "cell_type": "code",
   "execution_count": 142,
   "metadata": {},
   "outputs": [],
   "source": [
    "#Remove the years in parentheses from the movie names\n",
    "pattern = r'\\(\\d{4}\\)'\n",
    "\n",
    "df['newUrl'] = df['newUrl'].apply(lambda x: re.sub(pattern, '', x))\n",
    "df2['newUrl'] = df2['newUrl'].apply(lambda x: re.sub(pattern, '', x))"
   ]
  },
  {
   "cell_type": "code",
   "execution_count": 143,
   "metadata": {},
   "outputs": [],
   "source": [
    "#Remove the hyphens from the movie names\n",
    "df['newUrl'] = df['newUrl'].apply(lambda x: re.sub(\"-\", '', x))\n",
    "df2['newUrl'] = df2['newUrl'].apply(lambda x: re.sub(\"-\", '', x))"
   ]
  },
  {
   "cell_type": "code",
   "execution_count": 144,
   "metadata": {},
   "outputs": [],
   "source": [
    "#Convert every movie name to lowercase\n",
    "df['newUrl'] = df['newUrl'].str.lower()\n",
    "df2['newUrl'] = df2['newUrl'].str.lower()"
   ]
  },
  {
   "cell_type": "code",
   "execution_count": 145,
   "metadata": {},
   "outputs": [],
   "source": [
    "#Creating new dataframes from the newUrl and genre columns \n",
    "df3 = df[['newUrl','genre']]\n",
    "df4 = df2[['newUrl','genre']]"
   ]
  },
  {
   "cell_type": "code",
   "execution_count": 146,
   "metadata": {},
   "outputs": [
    {
     "name": "stderr",
     "output_type": "stream",
     "text": [
      "C:\\Users\\ginok\\AppData\\Local\\Temp\\ipykernel_5832\\3212421567.py:2: SettingWithCopyWarning: \n",
      "A value is trying to be set on a copy of a slice from a DataFrame.\n",
      "Try using .loc[row_indexer,col_indexer] = value instead\n",
      "\n",
      "See the caveats in the documentation: https://pandas.pydata.org/pandas-docs/stable/user_guide/indexing.html#returning-a-view-versus-a-copy\n",
      "  df3[\"genre_name\"] = df3[\"genre\"].str.split(\",\")\n"
     ]
    }
   ],
   "source": [
    "#Splitting all elements from the genre column into a list in the genre_name column\n",
    "df3[\"genre_name\"] = df3[\"genre\"].str.split(\",\")"
   ]
  },
  {
   "cell_type": "code",
   "execution_count": 147,
   "metadata": {},
   "outputs": [],
   "source": [
    "#Extracting each value from the list into its own row\n",
    "df3 = df3.explode(\"genre_name\")"
   ]
  },
  {
   "cell_type": "code",
   "execution_count": 148,
   "metadata": {},
   "outputs": [],
   "source": [
    "#Dropping the genre column\n",
    "df3 = df3.drop('genre', axis=1)"
   ]
  },
  {
   "cell_type": "code",
   "execution_count": 149,
   "metadata": {},
   "outputs": [],
   "source": [
    "#Rename the column to genre so it will be the same as the other dataframe\n",
    "df3 = df3.rename(columns={'genre_name': 'genre'})"
   ]
  },
  {
   "cell_type": "code",
   "execution_count": 150,
   "metadata": {},
   "outputs": [],
   "source": [
    "#concatenate both the dataframes \n",
    "df5 = pd.concat([df3, df4])"
   ]
  },
  {
   "cell_type": "code",
   "execution_count": 151,
   "metadata": {},
   "outputs": [],
   "source": [
    "#Removing any duplicate rows\n",
    "df5 = df5.drop_duplicates()"
   ]
  },
  {
   "cell_type": "code",
   "execution_count": 152,
   "metadata": {},
   "outputs": [],
   "source": [
    "#Loading the genre_id file into a new dataframe\n",
    "df6 = pd.read_csv(\"C:\\\\Users\\\\ginok\\\\Documents\\\\Digital Driven Business\\\\Database management\\\\Genre_ID.csv\")\n"
   ]
  },
  {
   "cell_type": "code",
   "execution_count": 153,
   "metadata": {},
   "outputs": [],
   "source": [
    "#Merge the dataframe containing the movies with genre names with the dataframe with genre ID's\n",
    "merged_df1 = df5.merge(df6, left_on='genre', right_on='Genre_name')"
   ]
  },
  {
   "cell_type": "code",
   "execution_count": 154,
   "metadata": {},
   "outputs": [],
   "source": [
    "#Loading in the movie_id file into a new dataframe\n",
    "df7 = pd.read_csv(\"C:\\\\Users\\\\ginok\\\\Documents\\\\Digital Driven Business\\\\Database management\\\\movieID.csv\")"
   ]
  },
  {
   "cell_type": "code",
   "execution_count": 155,
   "metadata": {},
   "outputs": [
    {
     "data": {
      "text/html": [
       "<div>\n",
       "<style scoped>\n",
       "    .dataframe tbody tr th:only-of-type {\n",
       "        vertical-align: middle;\n",
       "    }\n",
       "\n",
       "    .dataframe tbody tr th {\n",
       "        vertical-align: top;\n",
       "    }\n",
       "\n",
       "    .dataframe thead th {\n",
       "        text-align: right;\n",
       "    }\n",
       "</style>\n",
       "<table border=\"1\" class=\"dataframe\">\n",
       "  <thead>\n",
       "    <tr style=\"text-align: right;\">\n",
       "      <th></th>\n",
       "      <th>newUrl</th>\n",
       "      <th>genre</th>\n",
       "      <th>Unnamed: 0</th>\n",
       "      <th>Genre_ID</th>\n",
       "      <th>Genre_name</th>\n",
       "      <th>ShortenedURL</th>\n",
       "      <th>movieID</th>\n",
       "    </tr>\n",
       "  </thead>\n",
       "  <tbody>\n",
       "    <tr>\n",
       "      <th>0</th>\n",
       "      <td>!womenartrevolution</td>\n",
       "      <td>Documentary</td>\n",
       "      <td>9</td>\n",
       "      <td>10</td>\n",
       "      <td>Documentary</td>\n",
       "      <td>!womenartrevolution</td>\n",
       "      <td>1</td>\n",
       "    </tr>\n",
       "    <tr>\n",
       "      <th>1</th>\n",
       "      <td>11816</td>\n",
       "      <td>Documentary</td>\n",
       "      <td>9</td>\n",
       "      <td>10</td>\n",
       "      <td>Documentary</td>\n",
       "      <td>11816</td>\n",
       "      <td>64</td>\n",
       "    </tr>\n",
       "    <tr>\n",
       "      <th>2</th>\n",
       "      <td>121212</td>\n",
       "      <td>Documentary</td>\n",
       "      <td>9</td>\n",
       "      <td>10</td>\n",
       "      <td>Documentary</td>\n",
       "      <td>121212</td>\n",
       "      <td>78</td>\n",
       "    </tr>\n",
       "    <tr>\n",
       "      <th>3</th>\n",
       "      <td>121212</td>\n",
       "      <td>Concert/Performance</td>\n",
       "      <td>7</td>\n",
       "      <td>8</td>\n",
       "      <td>Concert/Performance</td>\n",
       "      <td>121212</td>\n",
       "      <td>78</td>\n",
       "    </tr>\n",
       "    <tr>\n",
       "      <th>4</th>\n",
       "      <td>12oclockboys</td>\n",
       "      <td>Documentary</td>\n",
       "      <td>9</td>\n",
       "      <td>10</td>\n",
       "      <td>Documentary</td>\n",
       "      <td>12oclockboys</td>\n",
       "      <td>89</td>\n",
       "    </tr>\n",
       "    <tr>\n",
       "      <th>...</th>\n",
       "      <td>...</td>\n",
       "      <td>...</td>\n",
       "      <td>...</td>\n",
       "      <td>...</td>\n",
       "      <td>...</td>\n",
       "      <td>...</td>\n",
       "      <td>...</td>\n",
       "    </tr>\n",
       "    <tr>\n",
       "      <th>48896</th>\n",
       "      <td>fienenteunhetgrotedierenfeest(2021netherlands)</td>\n",
       "      <td>Educational</td>\n",
       "      <td>11</td>\n",
       "      <td>12</td>\n",
       "      <td>Educational</td>\n",
       "      <td>fienenteunhetgrotedierenfeest(2021netherlands)</td>\n",
       "      <td>10170</td>\n",
       "    </tr>\n",
       "    <tr>\n",
       "      <th>48897</th>\n",
       "      <td>pyaarkapunchnama2</td>\n",
       "      <td>Reality</td>\n",
       "      <td>22</td>\n",
       "      <td>23</td>\n",
       "      <td>Reality</td>\n",
       "      <td>pyaarkapunchnama2</td>\n",
       "      <td>23940</td>\n",
       "    </tr>\n",
       "    <tr>\n",
       "      <th>48898</th>\n",
       "      <td>principlethe</td>\n",
       "      <td>Reality</td>\n",
       "      <td>22</td>\n",
       "      <td>23</td>\n",
       "      <td>Reality</td>\n",
       "      <td>principlethe</td>\n",
       "      <td>23683</td>\n",
       "    </tr>\n",
       "    <tr>\n",
       "      <th>48899</th>\n",
       "      <td>holyghost</td>\n",
       "      <td>Reality</td>\n",
       "      <td>22</td>\n",
       "      <td>23</td>\n",
       "      <td>Reality</td>\n",
       "      <td>holyghost</td>\n",
       "      <td>13242</td>\n",
       "    </tr>\n",
       "    <tr>\n",
       "      <th>48900</th>\n",
       "      <td>benpaobaxiongdi(china)</td>\n",
       "      <td>Reality</td>\n",
       "      <td>22</td>\n",
       "      <td>23</td>\n",
       "      <td>Reality</td>\n",
       "      <td>benpaobaxiongdi(china)</td>\n",
       "      <td>3587</td>\n",
       "    </tr>\n",
       "  </tbody>\n",
       "</table>\n",
       "<p>48901 rows × 7 columns</p>\n",
       "</div>"
      ],
      "text/plain": [
       "                                               newUrl                genre  \\\n",
       "0                                 !womenartrevolution          Documentary   \n",
       "1                                               11816          Documentary   \n",
       "2                                              121212          Documentary   \n",
       "3                                              121212  Concert/Performance   \n",
       "4                                        12oclockboys          Documentary   \n",
       "...                                               ...                  ...   \n",
       "48896  fienenteunhetgrotedierenfeest(2021netherlands)          Educational   \n",
       "48897                               pyaarkapunchnama2              Reality   \n",
       "48898                                    principlethe              Reality   \n",
       "48899                                       holyghost              Reality   \n",
       "48900                          benpaobaxiongdi(china)              Reality   \n",
       "\n",
       "       Unnamed: 0  Genre_ID           Genre_name  \\\n",
       "0               9        10          Documentary   \n",
       "1               9        10          Documentary   \n",
       "2               9        10          Documentary   \n",
       "3               7         8  Concert/Performance   \n",
       "4               9        10          Documentary   \n",
       "...           ...       ...                  ...   \n",
       "48896          11        12          Educational   \n",
       "48897          22        23              Reality   \n",
       "48898          22        23              Reality   \n",
       "48899          22        23              Reality   \n",
       "48900          22        23              Reality   \n",
       "\n",
       "                                         ShortenedURL  movieID  \n",
       "0                                 !womenartrevolution        1  \n",
       "1                                               11816       64  \n",
       "2                                              121212       78  \n",
       "3                                              121212       78  \n",
       "4                                        12oclockboys       89  \n",
       "...                                               ...      ...  \n",
       "48896  fienenteunhetgrotedierenfeest(2021netherlands)    10170  \n",
       "48897                               pyaarkapunchnama2    23940  \n",
       "48898                                    principlethe    23683  \n",
       "48899                                       holyghost    13242  \n",
       "48900                          benpaobaxiongdi(china)     3587  \n",
       "\n",
       "[48901 rows x 7 columns]"
      ]
     },
     "execution_count": 155,
     "metadata": {},
     "output_type": "execute_result"
    }
   ],
   "source": [
    "#Merging the merged dataframe with the dataframe containing the movie_ID's\n",
    "merged_df2 = merged_df1.merge(df7, left_on='newUrl', right_on='ShortenedURL')\n",
    "merged_df2"
   ]
  },
  {
   "cell_type": "code",
   "execution_count": 156,
   "metadata": {},
   "outputs": [],
   "source": [
    "#Drop the necessary columns from the merged dataframe\n",
    "merged_df2 = merged_df2.drop(columns=['ShortenedURL', 'Unnamed: 0','newUrl', 'genre'])"
   ]
  },
  {
   "cell_type": "code",
   "execution_count": 157,
   "metadata": {},
   "outputs": [],
   "source": [
    "#Export the Has_genre.csv file for further use in the database\n",
    "merged_df2.to_csv('Has_genre.csv', index=False)"
   ]
  }
 ],
 "metadata": {
  "kernelspec": {
   "display_name": "Python 3",
   "language": "python",
   "name": "python3"
  },
  "language_info": {
   "codemirror_mode": {
    "name": "ipython",
    "version": 3
   },
   "file_extension": ".py",
   "mimetype": "text/x-python",
   "name": "python",
   "nbconvert_exporter": "python",
   "pygments_lexer": "ipython3",
   "version": "3.11.4"
  },
  "orig_nbformat": 4
 },
 "nbformat": 4,
 "nbformat_minor": 2
}
