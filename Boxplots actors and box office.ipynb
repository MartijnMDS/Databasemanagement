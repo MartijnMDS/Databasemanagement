{
 "cells": [
  {
   "cell_type": "code",
   "execution_count": null,
   "metadata": {},
   "outputs": [],
   "source": [
    "#I import the libraries that I am going to use\n",
    "import pandas as pd \n",
    "import psycopg2\n",
    "import seaborn as sns\n",
    "import matplotlib.pyplot as plt"
   ]
  },
  {
   "cell_type": "code",
   "execution_count": null,
   "metadata": {},
   "outputs": [],
   "source": [
    "#I define the function to connect to my local movieDatabase server\n",
    "def connectDF():\n",
    "    conn = psycopg2.connect(\n",
    "        host=\"localhost\",\n",
    "        database=\"movieDatabase\",\n",
    "        user=\"postgres\",\n",
    "        password=\"cat\")\n",
    "    return conn"
   ]
  },
  {
   "cell_type": "code",
   "execution_count": null,
   "metadata": {},
   "outputs": [],
   "source": [
    "#I establish the connection with my server\n",
    "conn = connectDF()\n",
    "print(\"Connection success.\")"
   ]
  },
  {
   "cell_type": "code",
   "execution_count": null,
   "metadata": {},
   "outputs": [],
   "source": [
    "#Create a DataFrame from the box office revenue (in millions) for the actor: 'Leonardo DiCaprio'\n",
    "df1 = pd.read_sql('''\n",
    "        SELECT s.total_box_office / 1000000 as box_office, aid.actors\n",
    "FROM sales as s\n",
    "INNER JOIN movie_id as mid ON s.newurl = mid.movie_name\n",
    "INNER JOIN has_actor as ha ON mid.movie_id = ha.movie_id\n",
    "INNER JOIN actor_id as aid ON ha.actor_id = aid.actor_id\n",
    "WHERE aid.actors = 'Leonardo DiCaprio'                      \n",
    "        ''', conn)"
   ]
  },
  {
   "cell_type": "code",
   "execution_count": null,
   "metadata": {},
   "outputs": [],
   "source": [
    "#Create a DataFrame from the box office revenue (in millions) for the actor: 'Tom Cruise'\n",
    "df2 = pd.read_sql('''\n",
    "        SELECT s.total_box_office / 1000000 as box_office, aid.actors\n",
    "FROM sales as s\n",
    "INNER JOIN movie_id as mid ON s.newurl = mid.movie_name\n",
    "INNER JOIN has_actor as ha ON mid.movie_id = ha.movie_id\n",
    "INNER JOIN actor_id as aid ON ha.actor_id = aid.actor_id\n",
    "WHERE aid.actors = 'Tom Cruise'                      \n",
    "        ''', conn)"
   ]
  },
  {
   "cell_type": "code",
   "execution_count": null,
   "metadata": {},
   "outputs": [],
   "source": [
    "#Create a DataFrame from the box office revenue (in millions) for the actor: 'Scarlett Johannson'\n",
    "df3 = pd.read_sql('''\n",
    "        SELECT s.total_box_office / 1000000 as box_office, aid.actors\n",
    "FROM sales as s\n",
    "INNER JOIN movie_id as mid ON s.newurl = mid.movie_name\n",
    "INNER JOIN has_actor as ha ON mid.movie_id = ha.movie_id\n",
    "INNER JOIN actor_id as aid ON ha.actor_id = aid.actor_id\n",
    "WHERE aid.actors = 'Scarlett Johansson'                      \n",
    "        ''', conn)"
   ]
  },
  {
   "cell_type": "code",
   "execution_count": null,
   "metadata": {},
   "outputs": [],
   "source": [
    "#Create a DataFrame from the box office revenue (in millions) for the actor: 'Dwayne Johnson'\n",
    "df4 = pd.read_sql('''\n",
    "        SELECT s.total_box_office / 1000000 as box_office, aid.actors\n",
    "FROM sales as s\n",
    "INNER JOIN movie_id as mid ON s.newurl = mid.movie_name\n",
    "INNER JOIN has_actor as ha ON mid.movie_id = ha.movie_id\n",
    "INNER JOIN actor_id as aid ON ha.actor_id = aid.actor_id\n",
    "WHERE aid.actors = 'Dwayne Johnson'                      \n",
    "        ''', conn)"
   ]
  },
  {
   "cell_type": "code",
   "execution_count": null,
   "metadata": {},
   "outputs": [],
   "source": [
    "#Create a DataFrame from the box office revenue (in millions) for the actor: 'Jennifer Lawrence'\n",
    "df5 = pd.read_sql('''\n",
    "        SELECT s.total_box_office / 1000000 as box_office, aid.actors\n",
    "FROM sales as s\n",
    "INNER JOIN movie_id as mid ON s.newurl = mid.movie_name\n",
    "INNER JOIN has_actor as ha ON mid.movie_id = ha.movie_id\n",
    "INNER JOIN actor_id as aid ON ha.actor_id = aid.actor_id\n",
    "WHERE aid.actors = 'Jennifer Lawrence'                      \n",
    "        ''', conn)"
   ]
  },
  {
   "cell_type": "code",
   "execution_count": null,
   "metadata": {},
   "outputs": [],
   "source": [
    "#Create a DataFrame from the box office revenue of all other actors combined exluding the ones we already specified in their own DataFrame\n",
    "df6 = pd.read_sql('''\n",
    "        SELECT AVG(s.total_box_office / 1000000) as box_office, 'other actors' as actors\n",
    "FROM sales as s\n",
    "INNER JOIN movie_id as mid ON s.newurl = mid.movie_name\n",
    "INNER JOIN has_actor as ha ON mid.movie_id = ha.movie_id\n",
    "INNER JOIN actor_id as aid ON ha.actor_id = aid.actor_id\n",
    "WHERE aid.actors NOT IN ('Leonardo DiCaprio', 'Tom Cruise', 'Scarlett Johansson', 'Dwayne Johnson', 'Jennifer Lawrence' ) AND s.total_box_office != 0\n",
    "GROUP BY mid.movie_id\n",
    "        ''', conn)\n",
    "\n",
    "#This is the last data I needed from the postgres server so I close the connection.\n",
    "conn.close()\n",
    "print(\"Connection closed.\")"
   ]
  },
  {
   "cell_type": "code",
   "execution_count": null,
   "metadata": {},
   "outputs": [],
   "source": [
    "#I merge all the DataFrames of each actor into one combined DataFrame\n",
    "cdf = pd.concat([df1, df2, df3, df4, df5, df6])"
   ]
  },
  {
   "cell_type": "code",
   "execution_count": null,
   "metadata": {},
   "outputs": [],
   "source": [
    "#Here I create one boxplot per actor (or other actors) with on the Y-axis the box office \n",
    "plt.figure(figsize=(12, 6))\n",
    "sns.boxplot(x=\"actors\", y=\"box_office\", data=cdf)\n",
    "plt.xticks(rotation=45)\n",
    "plt.xlabel('Actors')\n",
    "plt.ylabel('Box office revenue in millions')\n",
    "plt.title('Hypothesis 6: The star power of featuring actors has a positive influence on the box office revenue of a movie.')\n",
    "plt.show()"
   ]
  },
  {
   "cell_type": "code",
   "execution_count": null,
   "metadata": {},
   "outputs": [],
   "source": [
    "#As you can see in the chart above the many outliers make it very difficult to read the boxplots. This is why I made the decision to remove the outliers.\n",
    "plt.figure(figsize=(12, 6))\n",
    "sns.boxplot(x=\"actors\", y=\"box_office\", data=cdf, showfliers=False)\n",
    "plt.xticks(rotation=45)\n",
    "plt.xlabel('Actors')\n",
    "plt.ylabel('Box office revenue in millions')\n",
    "plt.title('Hypothesis 6: The star power of featuring actors has a positive influence on the box office revenue of a movie.')\n",
    "plt.show()"
   ]
  }
 ],
 "metadata": {
  "kernelspec": {
   "display_name": "Python 3",
   "language": "python",
   "name": "python3"
  },
  "language_info": {
   "codemirror_mode": {
    "name": "ipython",
    "version": 3
   },
   "file_extension": ".py",
   "mimetype": "text/x-python",
   "name": "python",
   "nbconvert_exporter": "python",
   "pygments_lexer": "ipython3",
   "version": "3.11.4"
  },
  "orig_nbformat": 4
 },
 "nbformat": 4,
 "nbformat_minor": 2
}
