{
 "cells": [
  {
   "cell_type": "code",
   "execution_count": 1,
   "metadata": {},
   "outputs": [],
   "source": [
    "import pandas as pd \n",
    "import re"
   ]
  },
  {
   "cell_type": "code",
   "execution_count": 2,
   "metadata": {},
   "outputs": [],
   "source": [
    "#Loading in both metaClean and sales data\n",
    "df = pd.read_excel(\"C:/Users/olavr/Documents/Database management/RAW/metaClean43Brightspace.xlsx\")\n",
    "df = pd.DataFrame(df)\n",
    "\n",
    "df2 = pd.read_excel(\"C:/Users/olavr/Documents/Database management/RAW/sales.xlsx\")\n",
    "df2 = pd.DataFrame(df2)"
   ]
  },
  {
   "cell_type": "code",
   "execution_count": 3,
   "metadata": {},
   "outputs": [],
   "source": [
    "#Removing the URL part before the moviename\n",
    "df['newUrl'] = df['url'].str.split(\"/\", expand = True)[:][4]\n",
    "df2['newUrl'] = df2['url'].str.split(\"/\", expand = True)[:][4]"
   ]
  },
  {
   "cell_type": "code",
   "execution_count": 6,
   "metadata": {},
   "outputs": [],
   "source": [
    "#Converting everything to lowercase\n",
    "df['newUrl'] = df['newUrl'].str.lower()\n",
    "df2['newUrl'] = df2['newUrl'].str.lower()"
   ]
  },
  {
   "cell_type": "code",
   "execution_count": 4,
   "metadata": {},
   "outputs": [],
   "source": [
    "#Removing the year in between brackets, i.e. (2000), using a regular expression stored in pattern that detects all four digit numbers inbetween brackets\n",
    "pattern = r'\\(\\d{4}\\)'\n",
    "\n",
    "df['newUrl'] = df['newUrl'].apply(lambda x: re.sub(pattern, '', x))\n",
    "df2['newUrl'] = df2['newUrl'].apply(lambda x: re.sub(pattern, '', x))"
   ]
  },
  {
   "cell_type": "code",
   "execution_count": 5,
   "metadata": {},
   "outputs": [],
   "source": [
    "#removing hyphens from every string in the newUrl column\n",
    "df['newUrl'] = df['newUrl'].apply(lambda x: re.sub(\"-\", '', x))\n",
    "df2['newUrl'] = df2['newUrl'].apply(lambda x: re.sub(\"-\", '', x))"
   ]
  }
 ],
 "metadata": {
  "kernelspec": {
   "display_name": "Python 3",
   "language": "python",
   "name": "python3"
  },
  "language_info": {
   "codemirror_mode": {
    "name": "ipython",
    "version": 3
   },
   "file_extension": ".py",
   "mimetype": "text/x-python",
   "name": "python",
   "nbconvert_exporter": "python",
   "pygments_lexer": "ipython3",
   "version": "3.11.4"
  },
  "orig_nbformat": 4
 },
 "nbformat": 4,
 "nbformat_minor": 2
}
