{
 "cells": [
  {
   "cell_type": "code",
   "execution_count": 1,
   "metadata": {},
   "outputs": [],
   "source": [
    "#Import the pandas library\n",
    "import pandas as pd"
   ]
  },
  {
   "cell_type": "code",
   "execution_count": 2,
   "metadata": {},
   "outputs": [],
   "source": [
    "#Load the metaClean data into a dataframe and see how the data is structured using the .head() function\n",
    "df = pd.read_excel(\"C:/Users/olavr/Documents/Studie/MDDB/DDB management/MetaClean43Brightspace.xlsx\")\n",
    "df = pd.DataFrame(df['genre'])"
   ]
  },
  {
   "cell_type": "code",
   "execution_count": 3,
   "metadata": {},
   "outputs": [],
   "source": [
    "#Load the Sales data into a dataframe and see how the data is structured using the .head() function\n",
    "df2 = pd.read_excel(\"C:/Users/olavr/Documents/Studie/MDDB/DDB management/sales.xlsx\")\n",
    "df2 = pd.DataFrame(df2['genre'])"
   ]
  },
  {
   "cell_type": "code",
   "execution_count": 4,
   "metadata": {},
   "outputs": [],
   "source": [
    "#Split the multiple genres into seperate values in one row called 'Genre_name'\n",
    "df['Genre_name'] = df['genre'].str.split(',')\n",
    "df3 = pd.DataFrame(df['Genre_name'].explode('genres'))"
   ]
  },
  {
   "cell_type": "code",
   "execution_count": 5,
   "metadata": {},
   "outputs": [],
   "source": [
    "#Rename the row of genres from the 'sales.xlsx' file to 'Genre_name' to match the column extracted from the 'MetaClean43Brightspace.xlsx' file\n",
    "df2['Genre_name'] = df2['genre']\n",
    "df2 = df2.drop(columns=['genre'])"
   ]
  },
  {
   "cell_type": "code",
   "execution_count": 6,
   "metadata": {},
   "outputs": [],
   "source": [
    "#Merge the two columns of genres\n",
    "df4 = pd.merge(df2, df3, how='outer')"
   ]
  },
  {
   "cell_type": "code",
   "execution_count": 7,
   "metadata": {},
   "outputs": [],
   "source": [
    "#Remove the Null values\n",
    "df4 = df4.dropna()"
   ]
  },
  {
   "cell_type": "code",
   "execution_count": 8,
   "metadata": {},
   "outputs": [],
   "source": [
    "#Remove the duplicate values\n",
    "df4 = df4.drop_duplicates()"
   ]
  },
  {
   "cell_type": "code",
   "execution_count": 9,
   "metadata": {},
   "outputs": [],
   "source": [
    "#Sort the values alphabetically by name\n",
    "df4 = df4.sort_values(by=['Genre_name'])"
   ]
  },
  {
   "cell_type": "code",
   "execution_count": 10,
   "metadata": {},
   "outputs": [],
   "source": [
    "#Reset the index numbers\n",
    "df4 = df4.reset_index(drop= True)"
   ]
  },
  {
   "cell_type": "code",
   "execution_count": 11,
   "metadata": {},
   "outputs": [],
   "source": [
    "#Add an ID number to each genre using the index +1\n",
    "df4['Genre_ID'] = df4.index + 1"
   ]
  },
  {
   "cell_type": "code",
   "execution_count": 12,
   "metadata": {},
   "outputs": [],
   "source": [
    "#Reorder the columns so the Genre_ID (PK) is the first column.\n",
    "df4 = df4[['Genre_ID', 'Genre_name']]"
   ]
  },
  {
   "cell_type": "code",
   "execution_count": 13,
   "metadata": {},
   "outputs": [],
   "source": [
    "#Save the Dataframe with the Genre_ID and Genre_name to a .csv file for future use in the database\n",
    "df4.to_csv('Genre_ID.csv')"
   ]
  }
 ],
 "metadata": {
  "kernelspec": {
   "display_name": "Python 3",
   "language": "python",
   "name": "python3"
  },
  "language_info": {
   "codemirror_mode": {
    "name": "ipython",
    "version": 3
   },
   "file_extension": ".py",
   "mimetype": "text/x-python",
   "name": "python",
   "nbconvert_exporter": "python",
   "pygments_lexer": "ipython3",
   "version": "3.11.4"
  },
  "orig_nbformat": 4
 },
 "nbformat": 4,
 "nbformat_minor": 2
}
