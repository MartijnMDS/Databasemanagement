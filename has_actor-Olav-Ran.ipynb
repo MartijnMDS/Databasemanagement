{
 "cells": [
  {
   "cell_type": "code",
   "execution_count": 2,
   "metadata": {},
   "outputs": [],
   "source": [
    "import pandas as pd\n",
    "import re"
   ]
  },
  {
   "cell_type": "code",
   "execution_count": 3,
   "metadata": {},
   "outputs": [],
   "source": [
    "#Load the metaClean data into a dataframe\n",
    "df = pd.read_excel(\"C:/Users/olavr/Documents/Studie/MDDB/DDB management/metaClean43Brightspace.xlsx\")"
   ]
  },
  {
   "cell_type": "code",
   "execution_count": 4,
   "metadata": {},
   "outputs": [],
   "source": [
    "#Removing the URL part before the movie name\n",
    "df['newUrl'] = df['url'].str.split(\"/\", expand = True)[:][4]"
   ]
  },
  {
   "cell_type": "code",
   "execution_count": 5,
   "metadata": {},
   "outputs": [],
   "source": [
    "#Remove the years in parentheses from the movie names\n",
    "pattern = r'\\(\\d{4}\\)'\n",
    "\n",
    "df['newUrl'] = df['newUrl'].apply(lambda x: re.sub(pattern, '', x))"
   ]
  },
  {
   "cell_type": "code",
   "execution_count": 6,
   "metadata": {},
   "outputs": [],
   "source": [
    "#Remove the hyphens from the movie names\n",
    "df['newUrl'] = df['newUrl'].apply(lambda x: re.sub(\"-\", '', x))"
   ]
  },
  {
   "cell_type": "code",
   "execution_count": 7,
   "metadata": {},
   "outputs": [],
   "source": [
    "#Convert every movie name to lowercase\n",
    "df['newUrl'] = df['newUrl'].str.lower()"
   ]
  },
  {
   "cell_type": "code",
   "execution_count": 8,
   "metadata": {},
   "outputs": [],
   "source": [
    "#Creating a new dataframe from the newUrl and cast columns \n",
    "df2 = df[['newUrl','cast']]"
   ]
  },
  {
   "cell_type": "code",
   "execution_count": 9,
   "metadata": {},
   "outputs": [
    {
     "name": "stderr",
     "output_type": "stream",
     "text": [
      "C:\\Users\\olavr\\AppData\\Local\\Temp\\ipykernel_11648\\3312825134.py:1: SettingWithCopyWarning: \n",
      "A value is trying to be set on a copy of a slice from a DataFrame.\n",
      "Try using .loc[row_indexer,col_indexer] = value instead\n",
      "\n",
      "See the caveats in the documentation: https://pandas.pydata.org/pandas-docs/stable/user_guide/indexing.html#returning-a-view-versus-a-copy\n",
      "  df2[\"actor\"] = df2[\"cast\"].str.split(\",\")\n"
     ]
    }
   ],
   "source": [
    "#Splitting all elements from the cast column into a list in the actor column\n",
    "df2[\"actor\"] = df2[\"cast\"].str.split(\",\")"
   ]
  },
  {
   "cell_type": "code",
   "execution_count": 10,
   "metadata": {},
   "outputs": [],
   "source": [
    "#Extracting each value from the list into its own row\n",
    "df2 = df2.explode(\"actor\")"
   ]
  },
  {
   "cell_type": "code",
   "execution_count": 11,
   "metadata": {},
   "outputs": [],
   "source": [
    "#Dropping the cast column\n",
    "df2 = df2.drop('cast', axis=1)"
   ]
  },
  {
   "cell_type": "code",
   "execution_count": 13,
   "metadata": {},
   "outputs": [],
   "source": [
    "#Loading in the movie_id file into a new dataframe\n",
    "df3 = pd.read_csv(\"C:/Users/olavr/Documents/Studie/MDDB/DDB management/Python/MovieID.csv\")"
   ]
  },
  {
   "cell_type": "code",
   "execution_count": 14,
   "metadata": {},
   "outputs": [],
   "source": [
    "#Merging the movieID dataframe with the actors dataframe\n",
    "merged_df1 = df2.merge(df3, left_on='newUrl', right_on='ShortenedURL')\n"
   ]
  },
  {
   "cell_type": "code",
   "execution_count": 15,
   "metadata": {},
   "outputs": [],
   "source": [
    "#Loading in the Actor_id file into a new dataframe\n",
    "df4 = pd.read_csv(\"C:/Users/olavr/Documents/Studie/MDDB/DDB management/Python/Actor_ID.csv\")"
   ]
  },
  {
   "cell_type": "code",
   "execution_count": 16,
   "metadata": {},
   "outputs": [],
   "source": [
    "#Dropping unnecessary columns \n",
    "merged_df1 = merged_df1.drop(columns=['ShortenedURL', 'DeduplicatedMovieNames', 'newUrl'])"
   ]
  },
  {
   "cell_type": "code",
   "execution_count": 24,
   "metadata": {},
   "outputs": [
    {
     "data": {
      "text/html": [
       "<div>\n",
       "<style scoped>\n",
       "    .dataframe tbody tr th:only-of-type {\n",
       "        vertical-align: middle;\n",
       "    }\n",
       "\n",
       "    .dataframe tbody tr th {\n",
       "        vertical-align: top;\n",
       "    }\n",
       "\n",
       "    .dataframe thead th {\n",
       "        text-align: right;\n",
       "    }\n",
       "</style>\n",
       "<table border=\"1\" class=\"dataframe\">\n",
       "  <thead>\n",
       "    <tr style=\"text-align: right;\">\n",
       "      <th></th>\n",
       "      <th>Actor_ID</th>\n",
       "      <th>actors</th>\n",
       "    </tr>\n",
       "  </thead>\n",
       "  <tbody>\n",
       "    <tr>\n",
       "      <th>0</th>\n",
       "      <td>1</td>\n",
       "      <td>John Gallagher Jr.</td>\n",
       "    </tr>\n",
       "    <tr>\n",
       "      <th>1</th>\n",
       "      <td>2</td>\n",
       "      <td>John Goodman</td>\n",
       "    </tr>\n",
       "    <tr>\n",
       "      <th>2</th>\n",
       "      <td>3</td>\n",
       "      <td>Mary Elizabeth Winstead</td>\n",
       "    </tr>\n",
       "    <tr>\n",
       "      <th>3</th>\n",
       "      <td>4</td>\n",
       "      <td>Jonah Hill</td>\n",
       "    </tr>\n",
       "    <tr>\n",
       "      <th>4</th>\n",
       "      <td>5</td>\n",
       "      <td>Morgan Freeman</td>\n",
       "    </tr>\n",
       "    <tr>\n",
       "      <th>...</th>\n",
       "      <td>...</td>\n",
       "      <td>...</td>\n",
       "    </tr>\n",
       "    <tr>\n",
       "      <th>24857</th>\n",
       "      <td>24858</td>\n",
       "      <td>Ninon FranÃ§ois</td>\n",
       "    </tr>\n",
       "    <tr>\n",
       "      <th>24858</th>\n",
       "      <td>24859</td>\n",
       "      <td>Patrick Boucheron</td>\n",
       "    </tr>\n",
       "    <tr>\n",
       "      <th>24859</th>\n",
       "      <td>24860</td>\n",
       "      <td>Sayyid El Alami</td>\n",
       "    </tr>\n",
       "    <tr>\n",
       "      <th>24860</th>\n",
       "      <td>24861</td>\n",
       "      <td>Wislanda Louimat</td>\n",
       "    </tr>\n",
       "    <tr>\n",
       "      <th>24861</th>\n",
       "      <td>24862</td>\n",
       "      <td>Victoria Hall</td>\n",
       "    </tr>\n",
       "  </tbody>\n",
       "</table>\n",
       "<p>24862 rows × 2 columns</p>\n",
       "</div>"
      ],
      "text/plain": [
       "       Actor_ID                   actors\n",
       "0             1       John Gallagher Jr.\n",
       "1             2             John Goodman\n",
       "2             3  Mary Elizabeth Winstead\n",
       "3             4               Jonah Hill\n",
       "4             5           Morgan Freeman\n",
       "...         ...                      ...\n",
       "24857     24858          Ninon FranÃ§ois\n",
       "24858     24859        Patrick Boucheron\n",
       "24859     24860          Sayyid El Alami\n",
       "24860     24861         Wislanda Louimat\n",
       "24861     24862            Victoria Hall\n",
       "\n",
       "[24862 rows x 2 columns]"
      ]
     },
     "execution_count": 24,
     "metadata": {},
     "output_type": "execute_result"
    }
   ],
   "source": []
  },
  {
   "cell_type": "code",
   "execution_count": 17,
   "metadata": {},
   "outputs": [],
   "source": [
    "#Merging the dataframes containing the actor ID and the movie ID \n",
    "merged_df2 = df4.merge(merged_df1, left_on='actors', right_on='actor')"
   ]
  },
  {
   "cell_type": "code",
   "execution_count": 18,
   "metadata": {},
   "outputs": [],
   "source": [
    "#Dropping the actors and actor columns. Leaving only the Movie_ID and the Actor_ID\n",
    "merged_df2 = merged_df2.drop(columns=['actors', 'actor'])"
   ]
  },
  {
   "cell_type": "code",
   "execution_count": 19,
   "metadata": {},
   "outputs": [],
   "source": [
    "merged_df2.to_csv('Has_actor.csv', index=False)"
   ]
  }
 ],
 "metadata": {
  "kernelspec": {
   "display_name": "base",
   "language": "python",
   "name": "python3"
  },
  "language_info": {
   "codemirror_mode": {
    "name": "ipython",
    "version": 3
   },
   "file_extension": ".py",
   "mimetype": "text/x-python",
   "name": "python",
   "nbconvert_exporter": "python",
   "pygments_lexer": "ipython3",
   "version": "3.11.4"
  },
  "orig_nbformat": 4
 },
 "nbformat": 4,
 "nbformat_minor": 2
}
