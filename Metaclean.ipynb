{
 "cells": [
  {
   "cell_type": "code",
   "execution_count": 88,
   "metadata": {},
   "outputs": [],
   "source": [
    "import pandas as pd\n",
    "import re\n",
    "\n",
    "path = \"C:\\\\Users\\\\ginok\\\\Documents\\\\Digital Driven Business\\\\Database management\\\\metaClean43_Cleandata.xlsx\"\n",
    "\n",
    "df = pd.read_excel(path)\n"
   ]
  },
  {
   "cell_type": "code",
   "execution_count": 89,
   "metadata": {},
   "outputs": [],
   "source": [
    "#deleting the columns which aren't usefull for the ERD \n",
    "\n",
    "df = df.drop(columns=['summary', 'title', 'studio', 'rating', 'awards'])"
   ]
  },
  {
   "cell_type": "code",
   "execution_count": 90,
   "metadata": {},
   "outputs": [],
   "source": [
    "# Delete al the '.' \n",
    "df['cast'] = df['cast'].str.replace('.', ' ', regex=True)"
   ]
  },
  {
   "cell_type": "code",
   "execution_count": 91,
   "metadata": {},
   "outputs": [],
   "source": [
    "#Create space to spltt the names more easier.\n",
    "df['cast'] = df['cast'].str.replace(',', ' , ', regex=True)"
   ]
  },
  {
   "cell_type": "code",
   "execution_count": 92,
   "metadata": {},
   "outputs": [],
   "source": [
    "#Delete all the blanks to change te runtume to integer\n",
    "df['runtime'] = df['runtime'].fillna(0)"
   ]
  },
  {
   "cell_type": "code",
   "execution_count": 93,
   "metadata": {},
   "outputs": [],
   "source": [
    "#Change the runtime to integer. \n",
    "df['runtime'] = df['runtime'].astype(int)\n"
   ]
  },
  {
   "cell_type": "code",
   "execution_count": 94,
   "metadata": {},
   "outputs": [
    {
     "data": {
      "text/plain": [
       "0        NaN\n",
       "1        7.7\n",
       "2        5.8\n",
       "3        6.9\n",
       "4        7.5\n",
       "        ... \n",
       "11359    4.1\n",
       "11360    4.4\n",
       "11361    5.7\n",
       "11362    8.6\n",
       "11363    7.2\n",
       "Name: userscore, Length: 11364, dtype: float64"
      ]
     },
     "execution_count": 94,
     "metadata": {},
     "output_type": "execute_result"
    }
   ],
   "source": [
    "# Change the european numeric to american. \n",
    "df['userscore'].replace(',''.').replace('.',',').astype(float)"
   ]
  },
  {
   "cell_type": "code",
   "execution_count": 95,
   "metadata": {},
   "outputs": [],
   "source": [
    "# Delete all the . in the df\n",
    "df['director'] = df['director'].str.replace('.', ' ', regex=True)"
   ]
  },
  {
   "cell_type": "code",
   "execution_count": 96,
   "metadata": {},
   "outputs": [],
   "source": [
    "#Removing the URL part before the moviename\n",
    "df['newUrl'] = df['url'].str.split(\"/\", expand = True)[:][4]\n",
    "\n",
    "\n"
   ]
  },
  {
   "cell_type": "code",
   "execution_count": 97,
   "metadata": {},
   "outputs": [],
   "source": [
    "#Converting everything to lowercase\n",
    "df['newUrl'] = df['newUrl'].str.lower()"
   ]
  },
  {
   "cell_type": "code",
   "execution_count": 98,
   "metadata": {},
   "outputs": [],
   "source": [
    "##Removing the year in between brackets, i.e. (2000), using a regular expression stored in pattern that d\n",
    "pattern = r'\\(\\d{4}\\)'\n",
    "\n",
    "df['newUrl'] = df['newUrl'].apply(lambda x: re.sub(pattern, '', x))"
   ]
  },
  {
   "cell_type": "code",
   "execution_count": 99,
   "metadata": {},
   "outputs": [],
   "source": [
    "#removing hyphens from every string in the newUrl column\n",
    "df['newUrl'] = df['newUrl'].apply(lambda x: re.sub(\"-\", '', x))"
   ]
  },
  {
   "cell_type": "code",
   "execution_count": null,
   "metadata": {},
   "outputs": [],
   "source": []
  },
  {
   "cell_type": "code",
   "execution_count": 100,
   "metadata": {},
   "outputs": [],
   "source": [
    "df.rename(columns={'cast': 'actors'}, inplace=True)"
   ]
  },
  {
   "cell_type": "code",
   "execution_count": 101,
   "metadata": {},
   "outputs": [],
   "source": [
    "# Export to CSV file\n",
    "df.to_csv('Metaclean.csv', sep=';', index=False)"
   ]
  }
 ],
 "metadata": {
  "kernelspec": {
   "display_name": "base",
   "language": "python",
   "name": "python3"
  },
  "language_info": {
   "codemirror_mode": {
    "name": "ipython",
    "version": 3
   },
   "file_extension": ".py",
   "mimetype": "text/x-python",
   "name": "python",
   "nbconvert_exporter": "python",
   "pygments_lexer": "ipython3",
   "version": "3.11.4"
  },
  "orig_nbformat": 4
 },
 "nbformat": 4,
 "nbformat_minor": 2
}
