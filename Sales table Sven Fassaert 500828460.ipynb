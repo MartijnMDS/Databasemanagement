{
 "cells": [
  {
   "cell_type": "code",
   "execution_count": 2,
   "metadata": {},
   "outputs": [],
   "source": [
    "#Import pandas\n",
    "import pandas as pd"
   ]
  },
  {
   "cell_type": "code",
   "execution_count": 3,
   "metadata": {},
   "outputs": [],
   "source": [
    "#Import the excel data from Brightspace\n",
    "df= pd.read_excel(r\"C:\\Users\\Legion 5\\Downloads\\sales (1).xlsx\")\n"
   ]
  },
  {
   "cell_type": "code",
   "execution_count": 4,
   "metadata": {},
   "outputs": [],
   "source": [
    "#Change NaN to 0 in domestic_box_office and international_box_office\n",
    "df['domestic_box_office'].fillna(0, inplace=True)\n",
    "df['international_box_office'].fillna(0, inplace=True)\n"
   ]
  },
  {
   "cell_type": "code",
   "execution_count": 5,
   "metadata": {},
   "outputs": [],
   "source": [
    "#Sum international_box_office and domestic_box_office to get Total_box_office\n",
    "df['Total_box_office'] = df['international_box_office'] + df['domestic_box_office']\n"
   ]
  },
  {
   "cell_type": "code",
   "execution_count": 6,
   "metadata": {},
   "outputs": [],
   "source": [
    "#Import datetime\n",
    "from datetime import datetime "
   ]
  },
  {
   "cell_type": "code",
   "execution_count": 7,
   "metadata": {},
   "outputs": [],
   "source": [
    "#The code segment initially dissects the release date into two distinct variables, subsequently performing whitespace removal for the month component and eliminating the characters 'stndrdth' from the day component, leaving only the numeric value intact.\n",
    "#Subsequently, the code is subjected to a validation test using a 'try' block to ascertain its functionality, followed by returning the result in the 'month-day' format.\n",
    "#In the event of a ValueError occurrence, the code returns 'None,' indicating an unsuccessful operation, and proceeds to skip further processing of that particular data cell, allowing the code to continue with the next iteration.\n",
    "def convert_date(date_str):\n",
    "    parts = date_str.split()\n",
    "    if len(parts) == 2:\n",
    "        month_str, day_str = parts\n",
    "        month_str = month_str.strip()\n",
    "        day_str = day_str.strip('stndrdth')\n",
    "        try:\n",
    "            month = datetime.strptime(month_str, '%B').month\n",
    "            day = int(day_str)\n",
    "            return f'{month}-{day}'\n",
    "        except ValueError:\n",
    "            pass\n",
    "    return None\n",
    "\n",
    "#Apply the function to the 'release_date' column and create a new column 'formatted_date'.\n",
    "df['formatted_date'] = df['release_date'].apply(convert_date)"
   ]
  },
  {
   "cell_type": "code",
   "execution_count": 8,
   "metadata": {},
   "outputs": [],
   "source": [
    "#Convert the 'year' column to a string.\n",
    "df['year'] = df['year'].astype(str)"
   ]
  },
  {
   "cell_type": "code",
   "execution_count": 9,
   "metadata": {},
   "outputs": [],
   "source": [
    "#Combine the 'year' and 'formatted_date' columns into a single column named 'Reldate'.\n",
    "df['Reldate'] = df['year'] + '-' + df['formatted_date']\n"
   ]
  },
  {
   "cell_type": "code",
   "execution_count": 10,
   "metadata": {},
   "outputs": [
    {
     "data": {
      "text/plain": [
       "46"
      ]
     },
     "execution_count": 10,
     "metadata": {},
     "output_type": "execute_result"
    }
   ],
   "source": [
    "#Utilize 'isna()' or 'isnull()' to check for NaN values in the column and use sum function to count the NaN values.\n",
    "nan_count = df['Reldate'].isna().sum()\n",
    "nan_count"
   ]
  },
  {
   "cell_type": "code",
   "execution_count": 11,
   "metadata": {},
   "outputs": [],
   "source": [
    "#Replace empty values in 'Reldate' with the year from 'year' and add -01-01, because pgadmin4 needs a yyyy-mm-dd format. \n",
    "df['Reldate'].fillna(df['year'] + '-01-01', inplace=True)"
   ]
  },
  {
   "cell_type": "code",
   "execution_count": 12,
   "metadata": {},
   "outputs": [
    {
     "data": {
      "text/plain": [
       "0"
      ]
     },
     "execution_count": 12,
     "metadata": {},
     "output_type": "execute_result"
    }
   ],
   "source": [
    "#Check again de NaN values.\n",
    "nan_count = df['Reldate'].isna().sum()\n",
    "nan_count"
   ]
  },
  {
   "cell_type": "code",
   "execution_count": 13,
   "metadata": {},
   "outputs": [],
   "source": [
    "#Import re.\n",
    "import re"
   ]
  },
  {
   "cell_type": "code",
   "execution_count": 14,
   "metadata": {},
   "outputs": [],
   "source": [
    "#Removing the URL part before the moviename.\n",
    "df['newUrl'] = df['url'].str.split(\"/\", expand = True)[:][4]"
   ]
  },
  {
   "cell_type": "code",
   "execution_count": 15,
   "metadata": {},
   "outputs": [],
   "source": [
    "#Converting everything to lowercase.\n",
    "df['newUrl'] = df['newUrl'].str.lower()"
   ]
  },
  {
   "cell_type": "code",
   "execution_count": 16,
   "metadata": {},
   "outputs": [],
   "source": [
    "#Removing the year in between brackets, i.e. (2000), using a regular expression stored in pattern that detects all four digit numbers inbetween brackets.\n",
    "pattern = r'\\(\\d{4}\\)'\n",
    "\n",
    "df['newUrl'] = df['newUrl'].apply(lambda x: re.sub(pattern, '', x))"
   ]
  },
  {
   "cell_type": "code",
   "execution_count": 17,
   "metadata": {},
   "outputs": [],
   "source": [
    "#removing hyphens from every string in the newUrl column.\n",
    "df['newUrl'] = df['newUrl'].apply(lambda x: re.sub(\"-\", '', x))"
   ]
  },
  {
   "cell_type": "code",
   "execution_count": 18,
   "metadata": {},
   "outputs": [],
   "source": [
    "#Delete useless columns.\n",
    "df = df.drop(columns=['year', 'release_date', 'title', 'international_box_office', \n",
    "                    'domestic_box_office', 'worldwide_box_office', 'Unnamed: 8', 'theatre_count', 'avg run per theatre',\n",
    "                     'formatted_date', 'url', 'keywords', 'creative_type' ])"
   ]
  },
  {
   "cell_type": "code",
   "execution_count": 19,
   "metadata": {},
   "outputs": [
    {
     "data": {
      "text/html": [
       "<div>\n",
       "<style scoped>\n",
       "    .dataframe tbody tr th:only-of-type {\n",
       "        vertical-align: middle;\n",
       "    }\n",
       "\n",
       "    .dataframe tbody tr th {\n",
       "        vertical-align: top;\n",
       "    }\n",
       "\n",
       "    .dataframe thead th {\n",
       "        text-align: right;\n",
       "    }\n",
       "</style>\n",
       "<table border=\"1\" class=\"dataframe\">\n",
       "  <thead>\n",
       "    <tr style=\"text-align: right;\">\n",
       "      <th></th>\n",
       "      <th>genre</th>\n",
       "      <th>production_budget</th>\n",
       "      <th>opening_weekend</th>\n",
       "      <th>runtime</th>\n",
       "      <th>Total_box_office</th>\n",
       "      <th>Reldate</th>\n",
       "      <th>newUrl</th>\n",
       "    </tr>\n",
       "  </thead>\n",
       "  <tbody>\n",
       "    <tr>\n",
       "      <th>0</th>\n",
       "      <td>Drama</td>\n",
       "      <td>NaN</td>\n",
       "      <td>NaN</td>\n",
       "      <td>129.0</td>\n",
       "      <td>76576.0</td>\n",
       "      <td>2000-1-1</td>\n",
       "      <td>bakhasatang(skorea)</td>\n",
       "    </tr>\n",
       "    <tr>\n",
       "      <th>1</th>\n",
       "      <td>Thriller/Suspense</td>\n",
       "      <td>30000000.0</td>\n",
       "      <td>5486209.0</td>\n",
       "      <td>NaN</td>\n",
       "      <td>17865209.0</td>\n",
       "      <td>2001-1-12</td>\n",
       "      <td>antitrust</td>\n",
       "    </tr>\n",
       "    <tr>\n",
       "      <th>2</th>\n",
       "      <td>NaN</td>\n",
       "      <td>NaN</td>\n",
       "      <td>NaN</td>\n",
       "      <td>105.0</td>\n",
       "      <td>378562.0</td>\n",
       "      <td>2000-1-28</td>\n",
       "      <td>santitos</td>\n",
       "    </tr>\n",
       "    <tr>\n",
       "      <th>3</th>\n",
       "      <td>NaN</td>\n",
       "      <td>NaN</td>\n",
       "      <td>NaN</td>\n",
       "      <td>NaN</td>\n",
       "      <td>0.0</td>\n",
       "      <td>2002-01-01</td>\n",
       "      <td>frankmckluskyci</td>\n",
       "    </tr>\n",
       "    <tr>\n",
       "      <th>4</th>\n",
       "      <td>Drama</td>\n",
       "      <td>11000000.0</td>\n",
       "      <td>12177488.0</td>\n",
       "      <td>NaN</td>\n",
       "      <td>46060861.0</td>\n",
       "      <td>2002-1-25</td>\n",
       "      <td>walktoremembera</td>\n",
       "    </tr>\n",
       "    <tr>\n",
       "      <th>...</th>\n",
       "      <td>...</td>\n",
       "      <td>...</td>\n",
       "      <td>...</td>\n",
       "      <td>...</td>\n",
       "      <td>...</td>\n",
       "      <td>...</td>\n",
       "      <td>...</td>\n",
       "    </tr>\n",
       "    <tr>\n",
       "      <th>30607</th>\n",
       "      <td>Documentary</td>\n",
       "      <td>NaN</td>\n",
       "      <td>NaN</td>\n",
       "      <td>168.0</td>\n",
       "      <td>12356.0</td>\n",
       "      <td>2021-1-1</td>\n",
       "      <td>jokbeoldusinmuniyagi(2020southkorea)</td>\n",
       "    </tr>\n",
       "    <tr>\n",
       "      <th>30608</th>\n",
       "      <td>Drama</td>\n",
       "      <td>NaN</td>\n",
       "      <td>28851.0</td>\n",
       "      <td>101.0</td>\n",
       "      <td>968849.0</td>\n",
       "      <td>2021-3-5</td>\n",
       "      <td>mysalingeryear(canada)</td>\n",
       "    </tr>\n",
       "    <tr>\n",
       "      <th>30609</th>\n",
       "      <td>Action</td>\n",
       "      <td>NaN</td>\n",
       "      <td>NaN</td>\n",
       "      <td>85.0</td>\n",
       "      <td>240000.0</td>\n",
       "      <td>2021-1-1</td>\n",
       "      <td>escortvehicle36(2020china)</td>\n",
       "    </tr>\n",
       "    <tr>\n",
       "      <th>30610</th>\n",
       "      <td>Thriller/Suspense</td>\n",
       "      <td>NaN</td>\n",
       "      <td>119364.0</td>\n",
       "      <td>118.0</td>\n",
       "      <td>17351923.0</td>\n",
       "      <td>2021-5-21</td>\n",
       "      <td>drythe(australia)</td>\n",
       "    </tr>\n",
       "    <tr>\n",
       "      <th>30611</th>\n",
       "      <td>Adventure</td>\n",
       "      <td>NaN</td>\n",
       "      <td>NaN</td>\n",
       "      <td>NaN</td>\n",
       "      <td>33396899.0</td>\n",
       "      <td>2021-1-1</td>\n",
       "      <td>posledniybogatyrkorenzla(2021russia)</td>\n",
       "    </tr>\n",
       "  </tbody>\n",
       "</table>\n",
       "<p>30612 rows × 7 columns</p>\n",
       "</div>"
      ],
      "text/plain": [
       "                   genre  production_budget  opening_weekend  runtime  \\\n",
       "0                  Drama                NaN              NaN    129.0   \n",
       "1      Thriller/Suspense         30000000.0        5486209.0      NaN   \n",
       "2                    NaN                NaN              NaN    105.0   \n",
       "3                    NaN                NaN              NaN      NaN   \n",
       "4                  Drama         11000000.0       12177488.0      NaN   \n",
       "...                  ...                ...              ...      ...   \n",
       "30607        Documentary                NaN              NaN    168.0   \n",
       "30608              Drama                NaN          28851.0    101.0   \n",
       "30609             Action                NaN              NaN     85.0   \n",
       "30610  Thriller/Suspense                NaN         119364.0    118.0   \n",
       "30611          Adventure                NaN              NaN      NaN   \n",
       "\n",
       "       Total_box_office     Reldate                                newUrl  \n",
       "0               76576.0    2000-1-1                   bakhasatang(skorea)  \n",
       "1            17865209.0   2001-1-12                             antitrust  \n",
       "2              378562.0   2000-1-28                              santitos  \n",
       "3                   0.0  2002-01-01                       frankmckluskyci  \n",
       "4            46060861.0   2002-1-25                       walktoremembera  \n",
       "...                 ...         ...                                   ...  \n",
       "30607           12356.0    2021-1-1  jokbeoldusinmuniyagi(2020southkorea)  \n",
       "30608          968849.0    2021-3-5                mysalingeryear(canada)  \n",
       "30609          240000.0    2021-1-1            escortvehicle36(2020china)  \n",
       "30610        17351923.0   2021-5-21                     drythe(australia)  \n",
       "30611        33396899.0    2021-1-1  posledniybogatyrkorenzla(2021russia)  \n",
       "\n",
       "[30612 rows x 7 columns]"
      ]
     },
     "execution_count": 19,
     "metadata": {},
     "output_type": "execute_result"
    }
   ],
   "source": [
    "#Check df.\n",
    "df"
   ]
  },
  {
   "cell_type": "code",
   "execution_count": 20,
   "metadata": {},
   "outputs": [],
   "source": [
    "#Utilize str.replace() to replace 'thriller/suspense' with 'thriller'.\n",
    "df['genre'] = df['genre'].str.replace('Thriller/Suspense', 'Thriller')"
   ]
  },
  {
   "cell_type": "code",
   "execution_count": 21,
   "metadata": {},
   "outputs": [],
   "source": [
    "#Removing the NaN and change it to 0.0 of all the NaN values.\n",
    "df= df.fillna(0)"
   ]
  },
  {
   "cell_type": "code",
   "execution_count": 22,
   "metadata": {},
   "outputs": [],
   "source": [
    "df.to_csv('Salescleaned1.csv', index=False) "
   ]
  }
 ],
 "metadata": {
  "kernelspec": {
   "display_name": "base",
   "language": "python",
   "name": "python3"
  },
  "language_info": {
   "codemirror_mode": {
    "name": "ipython",
    "version": 3
   },
   "file_extension": ".py",
   "mimetype": "text/x-python",
   "name": "python",
   "nbconvert_exporter": "python",
   "pygments_lexer": "ipython3",
   "version": "3.11.4"
  },
  "orig_nbformat": 4
 },
 "nbformat": 4,
 "nbformat_minor": 2
}
